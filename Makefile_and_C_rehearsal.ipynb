{
  "nbformat": 4,
  "nbformat_minor": 0,
  "metadata": {
    "colab": {
      "provenance": [],
      "toc_visible": true,
      "include_colab_link": true
    },
    "kernelspec": {
      "name": "python3",
      "display_name": "Python 3"
    },
    "language_info": {
      "name": "python"
    }
  },
  "cells": [
    {
      "cell_type": "markdown",
      "metadata": {
        "id": "view-in-github",
        "colab_type": "text"
      },
      "source": [
        "<a href=\"https://colab.research.google.com/github/Kuper994/SP24/blob/main/Makefile_and_C_rehearsal.ipynb\" target=\"_parent\"><img src=\"https://colab.research.google.com/assets/colab-badge.svg\" alt=\"Open In Colab\"/></a>"
      ]
    },
    {
      "cell_type": "markdown",
      "source": [
        "## Makefile\n",
        "\n",
        "A makefile is a file that contains a set of rules for building executables from source files. Makefiles are often used in C/C++ projects to specify how the executables should be built from the source code.\n",
        "\n",
        "Here is an example of a simple makefile for a C project:\n",
        "\n",
        "\n",
        "\n",
        "\n",
        "```shell\n",
        "# Specify the target executable and the source files needed to build it\n",
        "my_app: main.o foo.o bar.o foo_bar.h\n",
        "\tgcc -o my_app main.o foo.o bar.o\n",
        "# Specify the object files that are generated from the corresponding source files\n",
        "main.o: main.c\n",
        "\tgcc -c main.c\n",
        "\n",
        "foo.o: foo.c\n",
        "\tgcc -c foo.c\n",
        "\n",
        "bar.o: bar.c\n",
        "\tgcc -c bar.c\n",
        "\n",
        "```\n",
        "To build the target executable, you would run the make command:\n",
        "\n",
        "\n",
        "\n",
        "```shell\n",
        "make\n",
        "```\n",
        "\n",
        "You can also specify a specific target to build by passing it as an argument to the make command:\n",
        "\n",
        "```shell\n",
        "make my_app\n",
        "```\n"
      ],
      "metadata": {
        "id": "jG0NpyJ5GkDj"
      }
    },
    {
      "cell_type": "markdown",
      "source": [
        "The following Makefile ultimately runs all three targets. When you run make in the terminal, it will build a program called *my_app* in a series of steps:\n",
        "\n",
        "\n",
        "\n",
        "*   Make selects the target **my_app**, because the first target is the default target\n",
        "*   **my_app** requires **main.o foo.o bar.o foo_bar.h**, so make searches for the **main.o foo.o bar.o foo_bar.h** targets\n",
        "*   **main.o** requires **main.c**, so make searches for the **main.c** target, **main.c** has no dependencies\n",
        "*   The gcc -c command is then run, because all of the **main.o** dependencies are finished\n",
        "*   **foo.o** requires **foo.c**, so make searches for the **foo.c** target, **foo.c** has no dependencies\n",
        "*   The gcc -c command is then run, because all of the **foo.o** dependencies are finished\n",
        "*   **bar.o** requires **bar.c**, so make searches for the **bar.c** target, **bar.c** has no dependencies\n",
        "*   The gcc -c command is then run, because all of the **bar.o** dependencies are finished\n",
        "*   **foo_bar.h** has no dependency, and Make just checks if it exists.\n",
        "*   The top gcc command is run, because all the **my_app** dependencies are finished\n",
        "*   That's it: **my_app** is a compiled c program\n",
        "\n",
        "\n"
      ],
      "metadata": {
        "id": "rqvLjTzyFqth"
      }
    },
    {
      "cell_type": "markdown",
      "source": [
        "When we run make again, the following set of steps happens:\n",
        "\n",
        "The first target is selected, because the first target is the default target.\n",
        "This has a prerequisite of **main.o foo.o bar.o and foo_bar.h**\n",
        "Make decides if it should run the my_app target. It will only run if **my_app** doesn't exist, or one of the prerequisite changed.\n",
        "This last step is critical, and is the essence of make. What it's attempting to do is decide if the prerequisites of **my_app** have changed since **my_app** was last compiled. That is, if: **main.c, foo.c, bar.c or foo_bar.h** is modified, running make should recompile the file.\n",
        "\n",
        "To make this happen, it uses the filesystem timestamps as a proxy to determine if something has changed."
      ],
      "metadata": {
        "id": "TDFpLb2jHsBP"
      }
    },
    {
      "cell_type": "markdown",
      "source": [
        "## Syntax and structure\n",
        "\n",
        "A Makefile consists of a set of rules. A rule generally looks like this:\n",
        "\n",
        "\n",
        "\n",
        "```shell\n",
        "target: prerequisites\n",
        "\tcommand\n",
        "\tcommand\n",
        "\tcommand\n",
        "```\n",
        "\n",
        "\n",
        "*   The target usually are file names.\n",
        "*   The commands are a series of steps typically used to make the target. These need to start with a tab character, not spaces.\n",
        "*   The prerequisites are also file names, separated by spaces. These files need to exist before the commands for the target are run. These are also called dependencies"
      ],
      "metadata": {
        "id": "wOhdQDNEIGL2"
      }
    },
    {
      "cell_type": "markdown",
      "source": [
        "## Variables\n",
        "\n",
        "You can use variables in a makefile to make it more flexible and easier to maintain. For example:\n",
        "\n",
        "\n",
        "\n",
        "```shell\n",
        "CC = gcc\n",
        "CFLAGS = -Wall -Wextra -Werror\n",
        "\n",
        "hello: main.o greetings.o\n",
        "    $(CC) -o hello main.o greetings.o $(CFLAGS)\n",
        "\n",
        "main.o: main.c\n",
        "    $(CC) -c main.c $(CFLAGS)\n",
        "\n",
        "greetings.o: greetings.c\n",
        "    $(CC) -c greetings.c $(CFLAGS)\n",
        "\n",
        "```\n",
        "\n"
      ],
      "metadata": {
        "id": "vd0HR3VVHnMz"
      }
    },
    {
      "cell_type": "markdown",
      "source": [
        "## Make clean\n",
        "\n",
        "clean is often used as a target that removes the output of other targets, but it is not a special word in Make. You can run make and make clean on this to create and delete some_file (e.g binaries).\n",
        "\n",
        "\n",
        "\n",
        "```shell\n",
        "target: prerequisites\n",
        "    command\n",
        "\n",
        "clean:\n",
        "\trm -f some_file\n",
        "```\n",
        "Example, clean all intermediate binaries:\n",
        "\n",
        "\n",
        "\n",
        "```shell\n",
        "clean:\n",
        "\trm -f *.o\n",
        "```\n",
        "\n",
        "\n"
      ],
      "metadata": {
        "id": "JjtdWxDfIjr5"
      }
    },
    {
      "cell_type": "markdown",
      "source": [
        "# C Exam Questions"
      ],
      "metadata": {
        "id": "lPyGsQy4EoEs"
      }
    },
    {
      "cell_type": "markdown",
      "source": [
        "## 2021 AA\n",
        "1.a(15)\n",
        "Write a program that gets a number of command line's arguments from the user, the program has to print the number of arguments (excluding the name of the program) that as a string they are 1 char long.\n",
        "\n",
        "2.b(15)\n",
        "\n",
        "Given the below linked list:\n",
        "\n",
        "\n",
        "```c\n",
        "typedef struct list_t {\n",
        "      int val;\n",
        "      struct list_t* next;\n",
        "} LIST;\n",
        "```\n",
        "Write a function \"concat\" that receives 2 pointers to non empty linked lists, and concatenates the second LL to the end of the first one, no need to return anything.\n",
        "\n",
        "3.c(15)\n",
        "\n",
        "Write a function called create, that gets a natural number n and returns a pointer called a, the pointer should point to a data structure that stores n*n integers, and it's elements are accessible using this syntaxt a[i][j] (i,j are between 1-n) and all values are initialized to 0.\n",
        "\n"
      ],
      "metadata": {
        "id": "-H82OEmREvrB"
      }
    },
    {
      "cell_type": "markdown",
      "source": [
        "Solution\n",
        "\n",
        "```c\n",
        "void main(int argc, char* argv[])\n",
        "{\n",
        "\tint count = 0;\n",
        "\tfor (int i = 1; i < argc; ++i)\n",
        "\t{\n",
        "\t\tchar* arg = argv[i];\n",
        "\t\tif(arg[1] == '\\0')\n",
        "\t\t{\n",
        "\t\t\tcount++;\n",
        "\t\t}\n",
        "\t}\n",
        "\n",
        "\tprintf(\"%d\\n\", cou);\n",
        "}\n",
        "\n",
        "```\n",
        "\n",
        "\n",
        "\n",
        "```c\n",
        "void concat(LIST* a, LIST* b)\n",
        "{\n",
        "\twhile (a->next != NULL)\n",
        "\t{\n",
        "\t\ta = a->next;\n",
        "\t}\n",
        "\n",
        "\ta->next = b;\n",
        "}\n",
        "```\n",
        "\n",
        "\n",
        "\n",
        "```c\n",
        "int** create(int n)\n",
        "{\n",
        "\tint i, j;\n",
        "\tint **vals = (int**)malloc(n * sizeof(int*));\n",
        "\tassert(vals);\n",
        "\tfor (i = 0; i < n; i++)\n",
        "\t{\n",
        "\t\tint* m = (int*)malloc(n * sizeof(int));\n",
        "\t\tassert(m);\n",
        "\t\tfor (j = 0; j < n; j++)\n",
        "\t\t{\n",
        "\t\t\tm[j] = 0;\n",
        "\t\t}\n",
        "\t\tvals[i] = m-1 ;\n",
        "\t}\n",
        "\n",
        "\n",
        "\treturn vals-1;\n",
        "}\n",
        "\n",
        "```\n",
        "\n"
      ],
      "metadata": {
        "id": "5VLc8KXfKdaA"
      }
    }
  ]
}